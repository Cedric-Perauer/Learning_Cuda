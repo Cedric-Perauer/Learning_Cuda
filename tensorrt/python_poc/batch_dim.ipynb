{
 "cells": [
  {
   "cell_type": "code",
   "execution_count": 2,
   "metadata": {},
   "outputs": [],
   "source": [
    "import torch\n",
    "a =torch.Tensor([[0.46115, 0.05223],\n",
    "        [0.35005, 0.31250],\n",
    "        [0.60000, 0.31274],\n",
    "        [0.31250, 0.53756],\n",
    "        [0.65101, 0.55000],\n",
    "        [0.24339, 0.79127],\n",
    "        [0.71530, 0.79728]])"
   ]
  },
  {
   "cell_type": "code",
   "execution_count": 3,
   "metadata": {},
   "outputs": [
    {
     "data": {
      "text/plain": [
       "tensor([[0.4611, 0.0522],\n",
       "        [0.3501, 0.3125],\n",
       "        [0.6000, 0.3127],\n",
       "        [0.3125, 0.5376],\n",
       "        [0.6510, 0.5500],\n",
       "        [0.2434, 0.7913],\n",
       "        [0.7153, 0.7973]])"
      ]
     },
     "execution_count": 3,
     "metadata": {},
     "output_type": "execute_result"
    }
   ],
   "source": [
    "a"
   ]
  },
  {
   "cell_type": "code",
   "execution_count": 4,
   "metadata": {},
   "outputs": [],
   "source": [
    "b = torch.stack((a,a))"
   ]
  },
  {
   "cell_type": "code",
   "execution_count": 5,
   "metadata": {},
   "outputs": [
    {
     "data": {
      "text/plain": [
       "tensor([[[0.4611, 0.0522],\n",
       "         [0.3501, 0.3125],\n",
       "         [0.6000, 0.3127],\n",
       "         [0.3125, 0.5376],\n",
       "         [0.6510, 0.5500],\n",
       "         [0.2434, 0.7913],\n",
       "         [0.7153, 0.7973]],\n",
       "\n",
       "        [[0.4611, 0.0522],\n",
       "         [0.3501, 0.3125],\n",
       "         [0.6000, 0.3127],\n",
       "         [0.3125, 0.5376],\n",
       "         [0.6510, 0.5500],\n",
       "         [0.2434, 0.7913],\n",
       "         [0.7153, 0.7973]]])"
      ]
     },
     "execution_count": 5,
     "metadata": {},
     "output_type": "execute_result"
    }
   ],
   "source": [
    "b"
   ]
  },
  {
   "cell_type": "code",
   "execution_count": 6,
   "metadata": {},
   "outputs": [
    {
     "data": {
      "text/plain": [
       "tensor(0.0127)"
      ]
     },
     "execution_count": 6,
     "metadata": {},
     "output_type": "execute_result"
    }
   ],
   "source": [
    "slope = (b[1][-1][1] - b[1][-2][1])/(b[1][-1][0]-b[1][-2][0])\n",
    "slope"
   ]
  },
  {
   "cell_type": "code",
   "execution_count": 7,
   "metadata": {},
   "outputs": [],
   "source": [
    "#vectorized slope\n",
    "c = (b[:,-2:,1][:,1] - b[:,-2:,1][:,0])/(b[:,-2:,0][:,1]- (b[:,-2:,0][:,0]))"
   ]
  },
  {
   "cell_type": "code",
   "execution_count": 8,
   "metadata": {},
   "outputs": [],
   "source": [
    "slopes = torch.ones_like(c) #slope tensor "
   ]
  },
  {
   "cell_type": "code",
   "execution_count": 9,
   "metadata": {},
   "outputs": [],
   "source": [
    "slopes[c>0] = 1 #change slope accordingly\n",
    "slopes[0] =1"
   ]
  },
  {
   "cell_type": "code",
   "execution_count": 10,
   "metadata": {},
   "outputs": [],
   "source": [
    "# mid_pt = abs(output[1][0][-1] - output[1][0][-2]) * \n",
    "#\\torch.Tensor([0.5,neg * 0.5]).to(\"cuda:0\") + output[1][0][-2]"
   ]
  },
  {
   "cell_type": "code",
   "execution_count": 11,
   "metadata": {},
   "outputs": [],
   "source": [
    "first = b[:,-2:,:][:,1] - b[:,-2:,:][:,0] "
   ]
  },
  {
   "cell_type": "code",
   "execution_count": 12,
   "metadata": {},
   "outputs": [],
   "source": [
    "sec = torch.ones_like(first)  * 0.5  * torch.stack((slopes,slopes),1)"
   ]
  },
  {
   "cell_type": "code",
   "execution_count": 13,
   "metadata": {},
   "outputs": [
    {
     "data": {
      "text/plain": [
       "tensor([[0.2434, 0.7913],\n",
       "        [0.2434, 0.7913]])"
      ]
     },
     "execution_count": 13,
     "metadata": {},
     "output_type": "execute_result"
    }
   ],
   "source": [
    "b[:,-2]"
   ]
  },
  {
   "cell_type": "code",
   "execution_count": 14,
   "metadata": {},
   "outputs": [
    {
     "data": {
      "text/plain": [
       "torch.Size([2, 2])"
      ]
     },
     "execution_count": 14,
     "metadata": {},
     "output_type": "execute_result"
    }
   ],
   "source": [
    "third = b[:,-2]\n",
    "third.shape"
   ]
  },
  {
   "cell_type": "code",
   "execution_count": 15,
   "metadata": {},
   "outputs": [],
   "source": [
    "#compute mid_pts pose\n",
    "mid_pts = first * sec + third"
   ]
  },
  {
   "cell_type": "code",
   "execution_count": 46,
   "metadata": {},
   "outputs": [],
   "source": [
    "#compute height \n",
    "top = (mid_pts - b[:,0,:]) * 132 #\n",
    "img_h = torch.norm(top,dim=1)\n",
    "px_size = 6e-6 \n",
    "hbb = px_size * img_h\n",
    "cone_h = 0.3\n",
    "f =1.2e-3\n",
    "distance = f /(hbb*cone_h)"
   ]
  },
  {
   "cell_type": "code",
   "execution_count": 47,
   "metadata": {},
   "outputs": [
    {
     "data": {
      "text/plain": [
       "tensor([6.8042, 6.8042])"
      ]
     },
     "execution_count": 47,
     "metadata": {},
     "output_type": "execute_result"
    }
   ],
   "source": [
    "distance"
   ]
  }
 ],
 "metadata": {
  "kernelspec": {
   "display_name": "Python 3",
   "language": "python",
   "name": "python3"
  },
  "language_info": {
   "codemirror_mode": {
    "name": "ipython",
    "version": 3
   },
   "file_extension": ".py",
   "mimetype": "text/x-python",
   "name": "python",
   "nbconvert_exporter": "python",
   "pygments_lexer": "ipython3",
   "version": "3.6.10"
  }
 },
 "nbformat": 4,
 "nbformat_minor": 4
}
